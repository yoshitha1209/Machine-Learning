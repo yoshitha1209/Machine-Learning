{
  "nbformat": 4,
  "nbformat_minor": 0,
  "metadata": {
    "colab": {
      "provenance": [],
      "mount_file_id": "1R0XI4Q9tHbrmXdci0iANmScOcSH49shM",
      "authorship_tag": "ABX9TyNlq/h55/2OgIXeQiV9WN9V",
      "include_colab_link": true
    },
    "kernelspec": {
      "name": "python3",
      "display_name": "Python 3"
    },
    "language_info": {
      "name": "python"
    }
  },
  "cells": [
    {
      "cell_type": "markdown",
      "metadata": {
        "id": "view-in-github",
        "colab_type": "text"
      },
      "source": [
        "<a href=\"https://colab.research.google.com/github/yoshitha1209/Machine-Learning/blob/main/23003_lab7.ipynb\" target=\"_parent\"><img src=\"https://colab.research.google.com/assets/colab-badge.svg\" alt=\"Open In Colab\"/></a>"
      ]
    },
    {
      "cell_type": "code",
      "source": [
        "import pandas as pd\n",
        "import numpy as np\n",
        "from sklearn.model_selection import train_test_split, RandomizedSearchCV\n",
        "from sklearn.ensemble import RandomForestClassifier\n",
        "from sklearn.metrics import accuracy_score\n",
        "\n",
        "file_path='/content/drive/MyDrive/Colab Notebooks/Copy of training_mathbert(1).xlsx'\n",
        "df=pd.read_excel(file_path)\n",
        "df.dropna(inplace=True)\n",
        "X = df.drop(columns=['output'])\n",
        "X = pd.get_dummies(X)\n",
        "y = df['output']\n",
        "y = y.astype(str)\n",
        "\n",
        "X_train, X_test, y_train, y_test = train_test_split(X, y, test_size=0.2, random_state=42)\n",
        "rf=RandomForestClassifier()\n",
        "param_dist={\n",
        "    'n_estimators':[100,200,300],\n",
        "    'max_depth':[None,10,20,30],\n",
        "    'min_samples_split':[2,5,10],\n",
        "    'min_samples_leaf':[1,2,4],\n",
        "    'bootstrap':[True,False]\n",
        "}\n",
        "\n",
        "random_search=RandomizedSearchCV(estimator=rf,param_distributions=param_dist,n_iter=20,cv=5,verbose=2,random_state=42,n_jobs=-1)\n",
        "random_search.fit(X_train,y_train)\n",
        "\n",
        "best_params=random_search.best_params_\n",
        "print('Best parameters:',best_params)\n",
        "\n",
        "best_model=random_search.best_estimator_\n",
        "y_pred=best_model.predict(X_test)\n",
        "accuracy=accuracy_score(y_test,y_pred)\n",
        "print('Accuracy:',accuracy)"
      ],
      "metadata": {
        "colab": {
          "base_uri": "https://localhost:8080/"
        },
        "id": "A8sQwDtWyRea",
        "outputId": "9f71a12b-efc4-4d09-b219-27efba5f32d0"
      },
      "execution_count": 2,
      "outputs": [
        {
          "output_type": "stream",
          "name": "stdout",
          "text": [
            "Fitting 5 folds for each of 20 candidates, totalling 100 fits\n"
          ]
        },
        {
          "output_type": "stream",
          "name": "stderr",
          "text": [
            "/usr/local/lib/python3.11/dist-packages/sklearn/model_selection/_split.py:805: UserWarning: The least populated class in y has only 1 members, which is less than n_splits=5.\n",
            "  warnings.warn(\n"
          ]
        },
        {
          "output_type": "stream",
          "name": "stdout",
          "text": [
            "Best parameters: {'n_estimators': 100, 'min_samples_split': 5, 'min_samples_leaf': 2, 'max_depth': 20, 'bootstrap': True}\n",
            "Accuracy: 0.14601769911504425\n"
          ]
        }
      ]
    },
    {
      "cell_type": "code",
      "execution_count": null,
      "metadata": {
        "id": "hXrCNk1Ow1kX"
      },
      "outputs": [],
      "source": []
    }
  ]
}