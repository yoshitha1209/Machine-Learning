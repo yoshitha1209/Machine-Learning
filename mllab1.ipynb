{
  "nbformat": 4,
  "nbformat_minor": 0,
  "metadata": {
    "colab": {
      "provenance": [],
      "toc_visible": true,
      "mount_file_id": "16nudmcCvRkxHjThp6OEf-7NGgZwiOEXp",
      "authorship_tag": "ABX9TyP992M8xHr+1RWIvbUL1sXX",
      "include_colab_link": true
    },
    "kernelspec": {
      "name": "python3",
      "display_name": "Python 3"
    },
    "language_info": {
      "name": "python"
    }
  },
  "cells": [
    {
      "cell_type": "markdown",
      "metadata": {
        "id": "view-in-github",
        "colab_type": "text"
      },
      "source": [
        "<a href=\"https://colab.research.google.com/github/yoshitha1209/Machine-Learning/blob/main/mllab1.ipynb\" target=\"_parent\"><img src=\"https://colab.research.google.com/assets/colab-badge.svg\" alt=\"Open In Colab\"/></a>"
      ]
    },
    {
      "cell_type": "code",
      "execution_count": null,
      "metadata": {
        "id": "NrV9w0ubNpLa"
      },
      "outputs": [],
      "source": []
    },
    {
      "cell_type": "markdown",
      "source": [
        "NAME: CHUNDURI YOSHITHA\n",
        "REGNO: BL.EN.U4AIE23003\n",
        "LAB-1"
      ],
      "metadata": {
        "id": "Ffp36x5RNpyq"
      }
    },
    {
      "cell_type": "markdown",
      "source": [
        "1.\n"
      ],
      "metadata": {
        "id": "Sqsb05__N5Bp"
      }
    },
    {
      "cell_type": "code",
      "source": [
        "l1=[2,7,4,1,3,6]\n",
        "def pairs_counting(l1):\n",
        "  count=0\n",
        "  for i in range(len(l1)):\n",
        "    for j in range(i+1,len(l1)):\n",
        "\n",
        "      if l1[i]+l1[j]==10:\n",
        "        print(l1[i],l1[j])\n",
        "        count=count+1\n",
        "  print(\"Count:\",count)\n",
        "\n",
        "pairs_counting(l1)\n",
        "\n"
      ],
      "metadata": {
        "colab": {
          "base_uri": "https://localhost:8080/"
        },
        "id": "O1AJHZhcN6sA",
        "outputId": "9663cf9f-be06-4e2f-f174-ef5036627cc2"
      },
      "execution_count": 3,
      "outputs": [
        {
          "output_type": "stream",
          "name": "stdout",
          "text": [
            "7 3\n",
            "4 6\n",
            "Count: 2\n"
          ]
        }
      ]
    },
    {
      "cell_type": "markdown",
      "source": [
        "2.\n"
      ],
      "metadata": {
        "id": "1H8fzKSTQyCK"
      }
    },
    {
      "cell_type": "code",
      "source": [
        "\n",
        "def range_list():\n",
        "  l1 = list(map(int,input(\"Enter the list: \").split()))\n",
        "  if len(l1)>3:\n",
        "    range=max(l1)-min(l1)\n",
        "    print(\"Range is \",range)\n",
        "  else:\n",
        "    print(\"Range determination not possible\")\n",
        "\n",
        "range_list()"
      ],
      "metadata": {
        "colab": {
          "base_uri": "https://localhost:8080/"
        },
        "id": "vSj-_9sgQy9_",
        "outputId": "4c9b6457-761f-4ce1-91b7-846794b425d5"
      },
      "execution_count": 9,
      "outputs": [
        {
          "output_type": "stream",
          "name": "stdout",
          "text": [
            "Enter the list: 7 9 6\n",
            "Range determination not possible\n"
          ]
        }
      ]
    },
    {
      "cell_type": "markdown",
      "source": [
        "3.\n"
      ],
      "metadata": {
        "id": "pFar1n4STr8J"
      }
    },
    {
      "cell_type": "code",
      "source": [
        "import numpy as np\n",
        "n=int(input(\"Enter the dimension of matrix:\"))\n",
        "mat=np.random.rand(n,n)\n",
        "print(mat)\n",
        "m=int(input(\"Enter the positive integer:\"))\n",
        "print(pow(mat,m))\n",
        "\n"
      ],
      "metadata": {
        "colab": {
          "base_uri": "https://localhost:8080/"
        },
        "id": "G6OIkAWkTs8p",
        "outputId": "345bfc1f-aa8d-4ca7-9f55-89421cb336e0"
      },
      "execution_count": null,
      "outputs": [
        {
          "output_type": "stream",
          "name": "stdout",
          "text": [
            "Enter the dimension of matrix:3\n",
            "[[0.20326114 0.36636629 0.36810144]\n",
            " [0.14473421 0.3573108  0.98448733]\n",
            " [0.09800016 0.4009035  0.12771502]]\n",
            "Enter the positive integer:2\n",
            "[[0.04131509 0.13422426 0.13549867]\n",
            " [0.02094799 0.127671   0.9692153 ]\n",
            " [0.00960403 0.16072362 0.01631113]]\n"
          ]
        }
      ]
    },
    {
      "cell_type": "markdown",
      "source": [],
      "metadata": {
        "id": "CGgJvj5JWk-p"
      }
    },
    {
      "cell_type": "markdown",
      "source": [
        "4.\n"
      ],
      "metadata": {
        "id": "nnRKU2_PWoBB"
      }
    },
    {
      "source": [
        "s=input(\"Enter a string:\")\n",
        "def high_occ(s):\n",
        "    max_char=max(s,key=s.count)\n",
        "    max_count=s.count(max_char)\n",
        "    print(max_char,max_count)\n",
        "high_occ(s)\n"
      ],
      "cell_type": "code",
      "metadata": {
        "colab": {
          "base_uri": "https://localhost:8080/"
        },
        "id": "iLX8w9oEYrIZ",
        "outputId": "041ce4b5-b62b-47ac-fb1c-87ec98050bad"
      },
      "execution_count": 10,
      "outputs": [
        {
          "output_type": "stream",
          "name": "stdout",
          "text": [
            "Enter a string:hippopotamus\n",
            "p 3\n"
          ]
        }
      ]
    }
  ]
}