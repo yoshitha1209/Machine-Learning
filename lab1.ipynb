{
  "nbformat": 4,
  "nbformat_minor": 0,
  "metadata": {
    "colab": {
      "provenance": [],
      "authorship_tag": "ABX9TyO7f0Lgzqx1KQgJoVAGUMac",
      "include_colab_link": true
    },
    "kernelspec": {
      "name": "python3",
      "display_name": "Python 3"
    },
    "language_info": {
      "name": "python"
    }
  },
  "cells": [
    {
      "cell_type": "markdown",
      "metadata": {
        "id": "view-in-github",
        "colab_type": "text"
      },
      "source": [
        "<a href=\"https://colab.research.google.com/github/yoshitha1209/Machine-Learning/blob/main/lab1.ipynb\" target=\"_parent\"><img src=\"https://colab.research.google.com/assets/colab-badge.svg\" alt=\"Open In Colab\"/></a>"
      ]
    },
    {
      "cell_type": "code",
      "execution_count": null,
      "metadata": {
        "colab": {
          "base_uri": "https://localhost:8080/"
        },
        "id": "Y-zkje5Tcm3A",
        "outputId": "e96deb8e-9418-463f-b52e-5d793e290196"
      },
      "outputs": [
        {
          "output_type": "stream",
          "name": "stdout",
          "text": [
            "[0.01216817 0.02641097 0.03392989 0.04069797 0.05878348 0.06006721\n",
            " 0.06175806 0.06595113 0.08804794 0.11642153 0.13131678 0.14482311\n",
            " 0.17470337 0.17486839 0.17848501 0.18532269 0.18625825 0.19056736\n",
            " 0.19078307 0.19158877 0.19583753 0.19835999 0.20331528 0.20419776\n",
            " 0.26309621 0.27364843 0.27657734 0.28985357 0.30481603 0.31239226\n",
            " 0.32843845 0.33373473 0.34916229 0.35417691 0.36156693 0.37040523\n",
            " 0.37174534 0.37438009 0.38414842 0.39964192 0.41235938 0.42071256\n",
            " 0.42075456 0.43270247 0.45770095 0.46706973 0.4712184  0.48306511\n",
            " 0.48408135 0.4887502  0.50440896 0.50996139 0.51822476 0.5193252\n",
            " 0.53447511 0.5513257  0.56429226 0.56956873 0.56977363 0.57685652\n",
            " 0.57777479 0.59800963 0.62621373 0.6508842  0.65594628 0.6663372\n",
            " 0.66823786 0.67303093 0.67521801 0.67690066 0.68566055 0.71750088\n",
            " 0.74592409 0.75447681 0.76433961 0.77326133 0.78560434 0.79322905\n",
            " 0.79730881 0.80948759 0.83740909 0.8474954  0.85374793 0.85473149\n",
            " 0.87014605 0.89629699 0.91255678 0.91633796 0.92577528 0.92745321\n",
            " 0.94922102 0.94973419 0.96633855 0.97950683 0.98165887 0.98373364\n",
            " 0.98490679 0.98549573 0.98630096 0.99227413]\n"
          ]
        }
      ],
      "source": [
        "import numpy as np\n",
        "V1=np.random.rand(100)\n",
        "V1_sorted=np.sort(V1)\n",
        "print(V1_sorted)"
      ]
    },
    {
      "cell_type": "code",
      "source": [
        "print(V1*3)"
      ],
      "metadata": {
        "colab": {
          "base_uri": "https://localhost:8080/"
        },
        "id": "4Tk3j-wpdaF2",
        "outputId": "f712f6b5-6bf8-4389-ee54-d979d0fe149d"
      },
      "execution_count": null,
      "outputs": [
        {
          "output_type": "stream",
          "name": "stdout",
          "text": [
            "[2.0190928  2.26343043 1.70870618 1.52988417 1.41365519 0.58751258\n",
            " 2.29301882 1.46625059 1.11523601 1.44919533 1.12314028 0.26414381\n",
            " 2.84920257 2.23777227 0.60994585 0.78928863 0.82973203 0.0365045\n",
            " 2.54248619 1.04748688 2.39192644 1.40120918 0.8209453  0.57234921\n",
            " 1.08470079 2.31978398 1.69287677 2.95472038 0.61259328 2.56124378\n",
            " 2.56419447 1.45224406 2.9385205  2.73767034 0.55596808 2.94497661\n",
            " 0.53545504 0.17635043 2.00471358 0.57170209 2.95120093 2.61043815\n",
            " 1.29810742 2.95890287 0.59507997 2.03070198 1.26213767 2.35681301\n",
            " 0.57476631 0.07923291 2.77732583 1.51322687 2.84766305 2.89901566\n",
            " 0.18020164 2.95648719 1.8786412  2.68889098 1.55467427 1.60342532\n",
            " 1.1112157  2.74901389 0.19785338 2.37968715 1.26226369 2.51222726\n",
            " 2.05698164 1.55797561 1.73332438 2.02565404 0.43446932 2.15250265\n",
            " 1.73056956 1.99901161 1.06253072 2.78235964 1.19892577 0.86956071\n",
            " 0.39395035 2.9768224  1.37310285 0.52411011 2.42846278 1.79402888\n",
            " 0.18527419 1.65397711 1.23707815 0.12209392 1.96783885 0.52460517\n",
            " 1.7093209  0.91444809 0.55877476 1.95265259 0.34926459 0.93717677\n",
            " 0.10178967 0.98531534 1.15244526 1.00120418]\n"
          ]
        }
      ]
    },
    {
      "cell_type": "code",
      "source": [
        "print(\"Mean:\",np.mean(V1))\n",
        "print(\"St Deviation\",np.std(V1))"
      ],
      "metadata": {
        "colab": {
          "base_uri": "https://localhost:8080/"
        },
        "id": "NEpLMQbydjzF",
        "outputId": "5c000937-1913-48dd-b3fe-f1d901cd88d8"
      },
      "execution_count": null,
      "outputs": [
        {
          "output_type": "stream",
          "name": "stdout",
          "text": [
            "Mean: 0.5111554208773039\n",
            "St Deviation 0.2930638593905824\n"
          ]
        }
      ]
    },
    {
      "cell_type": "code",
      "source": [
        "m=np.zeros((4,3))\n",
        "print(m)\n",
        "m_rand=np.random.rand(4,3)\n",
        "print(m_rand)\n",
        "print(\"1-D:\",m_rand.flatten())"
      ],
      "metadata": {
        "colab": {
          "base_uri": "https://localhost:8080/"
        },
        "id": "xNnkrUZtd0kb",
        "outputId": "b047d7b0-4a71-4580-85c7-c211109c86e2"
      },
      "execution_count": null,
      "outputs": [
        {
          "output_type": "stream",
          "name": "stdout",
          "text": [
            "[[0. 0. 0.]\n",
            " [0. 0. 0.]\n",
            " [0. 0. 0.]\n",
            " [0. 0. 0.]]\n",
            "[[0.89729544 0.24785679 0.77819166]\n",
            " [0.38718775 0.00151883 0.51102042]\n",
            " [0.73213196 0.62883426 0.15449582]\n",
            " [0.59394099 0.78955322 0.71121008]]\n",
            "1-D: [0.89729544 0.24785679 0.77819166 0.38718775 0.00151883 0.51102042\n",
            " 0.73213196 0.62883426 0.15449582 0.59394099 0.78955322 0.71121008]\n"
          ]
        }
      ]
    },
    {
      "cell_type": "code",
      "source": [
        "import re\n",
        "S1=\"I am a great learner. I am going to have an awesome life.\"\n",
        "exp=r'\\bAm\\b'\n",
        "count=len(re.findall(exp,S1,re.IGNORECASE))\n",
        "print(count)"
      ],
      "metadata": {
        "id": "deY6O-CXe10O",
        "colab": {
          "base_uri": "https://localhost:8080/"
        },
        "outputId": "ff4a706e-6ddd-4e66-eb49-621ef0ee5c6b"
      },
      "execution_count": null,
      "outputs": [
        {
          "output_type": "stream",
          "name": "stdout",
          "text": [
            "2\n"
          ]
        }
      ]
    },
    {
      "cell_type": "code",
      "source": [
        "S2='I work hard and shall be rewarded well.'\n",
        "S3=S1+\" \"+S2\n",
        "print(S3)"
      ],
      "metadata": {
        "colab": {
          "base_uri": "https://localhost:8080/"
        },
        "id": "GAoIkUGtiKnB",
        "outputId": "e857a771-7a85-4c8f-e287-37045ba5ccfa"
      },
      "execution_count": null,
      "outputs": [
        {
          "output_type": "stream",
          "name": "stdout",
          "text": [
            "I am a great learner. I am going to have an awesome life. I work hard and shall be rewarded well.\n"
          ]
        }
      ]
    },
    {
      "cell_type": "code",
      "source": [
        "period=S3.replace(\".\",\" \")\n",
        "whitespace=period.split()\n",
        "length=len(whitespace)\n",
        "print(length)"
      ],
      "metadata": {
        "colab": {
          "base_uri": "https://localhost:8080/"
        },
        "id": "maCY4iDFiftA",
        "outputId": "5aa0fe96-b262-4a46-da3f-5d2c6970f200"
      },
      "execution_count": null,
      "outputs": [
        {
          "output_type": "stream",
          "name": "stdout",
          "text": [
            "21\n"
          ]
        }
      ]
    },
    {
      "cell_type": "code",
      "source": [
        "exp=r'\\b(?!(?:I|am|to|and)\\b)\\w{1,6}\\b'\n",
        "removed_words=re.findall(exp,S3,re.IGNORECASE)\n",
        "print(len(removed_words))"
      ],
      "metadata": {
        "colab": {
          "base_uri": "https://localhost:8080/"
        },
        "id": "VZV_QQIMkR13",
        "outputId": "d09a67c2-e98e-40b5-f8d0-4219559ceb93"
      },
      "execution_count": null,
      "outputs": [
        {
          "output_type": "stream",
          "name": "stdout",
          "text": [
            "11\n"
          ]
        }
      ]
    },
    {
      "cell_type": "code",
      "source": [
        "date=\"1-JUN-2021\"\n",
        "date,month,year=date.split(\"-\")\n",
        "calender={'JAN':1,'FEB':2,'MAR':3,'APR':4,'MAY':5,'JUN':6,'JUL':7,'AUG':8,'SEP':9,'OCT':10,'NOV':11,'DEC':12}\n",
        "num_month=calender[month.upper()]\n",
        "print(\"Date:\",date)\n",
        "print(\"Month:\",num_month)\n",
        "print(\"Year:\",year)\n"
      ],
      "metadata": {
        "colab": {
          "base_uri": "https://localhost:8080/"
        },
        "id": "rCJTVwrDlwjm",
        "outputId": "eaf3dfbc-55e2-42a7-eaa2-8638901a51fb"
      },
      "execution_count": null,
      "outputs": [
        {
          "output_type": "stream",
          "name": "stdout",
          "text": [
            "Date: 1\n",
            "Month: 6\n",
            "Year: 2021\n"
          ]
        }
      ]
    },
    {
      "cell_type": "code",
      "source": [
        "import pandas as pd\n",
        "data={\n",
        "    \"City\":[\"BENGALURU\",\"CHENNAI\",\"MUMBAI\",\"MYSURU\",\"PATNA\",\"JAMMU\",\"GANDHI NAGAR\",\"HYDERABAD\",\"ERNAKULAM\",\"AMARAVATI\"],\n",
        "    \"State\":[\"KA\",\"TN\",\"MH\",\"KA\",\"BH\",\"JK\",\"GJ\",\"TS\",\"KL\",\"AP\"],\n",
        "    \"PIN Code\":[560001,600001,400001,570001,800001,180001,382001,500001,682001,522001]\n",
        "}\n",
        "\n",
        "df=pd.DataFrame(data)\n",
        "input_file='data_states.xlsx'\n",
        "df.to_excel(input_file,index=False)\n",
        "df_read=pd.read_excel(input_file)\n",
        "df_read['City,State']=df_read['City']+', '+df_read['State']\n",
        "updated_file='updated_states.xlsx'\n",
        "df_read.to_excel(updated_file,index=False)\n",
        "\n"
      ],
      "metadata": {
        "id": "vJTr2npBnP0Q"
      },
      "execution_count": null,
      "outputs": []
    },
    {
      "cell_type": "code",
      "source": [
        "import matplotlib.pyplot as plt\n",
        "V1=np.random.rand(100)\n",
        "V1_sorted=np.sort(V1)\n",
        "plt.plot(V1_sorted,color='red')\n",
        "plt.show()\n",
        "\n"
      ],
      "metadata": {
        "colab": {
          "base_uri": "https://localhost:8080/",
          "height": 430
        },
        "id": "eVHykc5IsPUC",
        "outputId": "48759911-3134-483b-f599-350a5e85bf08"
      },
      "execution_count": null,
      "outputs": [
        {
          "output_type": "display_data",
          "data": {
            "text/plain": [
              "<Figure size 640x480 with 1 Axes>"
            ],
            "image/png": "[encoded data removed]"
          },
          "metadata": {}
        }
      ]
    },
    {
      "cell_type": "code",
      "source": [
        "V2=V1_sorted**2\n",
        "plt.plot(V1_sorted,color='red')\n",
        "plt.plot(V2,color='blue')\n",
        "plt.show()\n",
        "\n",
        "\n"
      ],
      "metadata": {
        "colab": {
          "base_uri": "https://localhost:8080/",
          "height": 430
        },
        "id": "QS2lf7GotiXu",
        "outputId": "f8a07b9c-5d5c-4e7d-cfaf-cac08ee72070"
      },
      "execution_count": null,
      "outputs": [
        {
          "output_type": "display_data",
          "data": {
            "text/plain": [
              "<Figure size 640x480 with 1 Axes>"
            ],
            "image/png": "[encoded data removed]"
          },
          "metadata": {}
        }
      ]
    }
  ]
}