{
  "nbformat": 4,
  "nbformat_minor": 0,
  "metadata": {
    "colab": {
      "provenance": [],
      "authorship_tag": "ABX9TyPU0HWrSqFoxYym9KhEk6ak",
      "include_colab_link": true
    },
    "kernelspec": {
      "name": "python3",
      "display_name": "Python 3"
    },
    "language_info": {
      "name": "python"
    }
  },
  "cells": [
    {
      "cell_type": "markdown",
      "metadata": {
        "id": "view-in-github",
        "colab_type": "text"
      },
      "source": [
        "<a href=\"https://colab.research.google.com/github/yoshitha1209/Machine-Learning/blob/main/23003lab2.ipynb\" target=\"_parent\"><img src=\"https://colab.research.google.com/assets/colab-badge.svg\" alt=\"Open In Colab\"/></a>"
      ]
    },
    {
      "cell_type": "code",
      "execution_count": null,
      "metadata": {
        "id": "Im2Zp4HCbctU"
      },
      "outputs": [],
      "source": []
    },
    {
      "cell_type": "markdown",
      "source": [
        "A1,A2,A3"
      ],
      "metadata": {
        "id": "TFew2eGh59gd"
      }
    },
    {
      "source": [
        "\n",
        "import pandas as pd\n",
        "import numpy as np\n",
        "import matplotlib.pyplot as plt\n",
        "df = pd.read_excel(\"/Lab Session Data.xlsx\", usecols=['Customer','Candies (#)','Mangoes (Kg)','Milk Packets (#)','Payment (Rs)'])\n",
        "print(\"Contents in csv file:\\n\", df)\n",
        "A=np.array([df['Candies (#)'],df['Mangoes (Kg)'],df['Milk Packets (#)']]).transpose()\n",
        "print(A)\n",
        "C=np.array([df['Payment (Rs)']]).transpose()\n",
        "print(C)\n",
        "print(\"Dimensionality\",A.shape[1])\n",
        "print(\"Number of vectors\",A.shape[0])\n",
        "print(\"Rank\",np.linalg.matrix_rank(A))\n",
        "print(\"Cost\",np.matmul(np.linalg.pinv(A),C))\n",
        "def classifier(C):\n",
        "  payment=df.groupby('Customer')['Payment (Rs)'].sum()\n",
        "  classify=payment.apply(lambda x:'Rich' if x>200 else 'Poor')\n",
        "  return classify\n",
        "classifier(C)"
      ],
      "cell_type": "code",
      "metadata": {
        "colab": {
          "base_uri": "https://localhost:8080/",
          "height": 1000
        },
        "id": "Iv6G-LxsgWLv",
        "outputId": "9f5ad751-d678-4d11-b549-1609bea7f8c4"
      },
      "execution_count": 56,
      "outputs": [
        {
          "output_type": "stream",
          "name": "stdout",
          "text": [
            "Contents in csv file:\n",
            "   Customer  Candies (#)  Mangoes (Kg)  Milk Packets (#)  Payment (Rs)\n",
            "0      C_1           20             6                 2           386\n",
            "1      C_2           16             3                 6           289\n",
            "2      C_3           27             6                 2           393\n",
            "3      C_4           19             1                 2           110\n",
            "4      C_5           24             4                 2           280\n",
            "5      C_6           22             1                 5           167\n",
            "6      C_7           15             4                 2           271\n",
            "7      C_8           18             4                 2           274\n",
            "8      C_9           21             1                 4           148\n",
            "9     C_10           16             2                 4           198\n",
            "[[20  6  2]\n",
            " [16  3  6]\n",
            " [27  6  2]\n",
            " [19  1  2]\n",
            " [24  4  2]\n",
            " [22  1  5]\n",
            " [15  4  2]\n",
            " [18  4  2]\n",
            " [21  1  4]\n",
            " [16  2  4]]\n",
            "[[386]\n",
            " [289]\n",
            " [393]\n",
            " [110]\n",
            " [280]\n",
            " [167]\n",
            " [271]\n",
            " [274]\n",
            " [148]\n",
            " [198]]\n",
            "Dimensionality 3\n",
            "Number of vectors 10\n",
            "Rank 3\n",
            "Cost [[ 1.]\n",
            " [55.]\n",
            " [18.]]\n"
          ]
        },
        {
          "output_type": "execute_result",
          "data": {
            "text/plain": [
              "Customer\n",
              "C_1     Rich\n",
              "C_10    Poor\n",
              "C_2     Rich\n",
              "C_3     Rich\n",
              "C_4     Poor\n",
              "C_5     Rich\n",
              "C_6     Poor\n",
              "C_7     Rich\n",
              "C_8     Rich\n",
              "C_9     Poor\n",
              "Name: Payment (Rs), dtype: object"
            ],
            "text/html": [
              "<div>\n",
              "<style scoped>\n",
              "    .dataframe tbody tr th:only-of-type {\n",
              "        vertical-align: middle;\n",
              "    }\n",
              "\n",
              "    .dataframe tbody tr th {\n",
              "        vertical-align: top;\n",
              "    }\n",
              "\n",
              "    .dataframe thead th {\n",
              "        text-align: right;\n",
              "    }\n",
              "</style>\n",
              "<table border=\"1\" class=\"dataframe\">\n",
              "  <thead>\n",
              "    <tr style=\"text-align: right;\">\n",
              "      <th></th>\n",
              "      <th>Payment (Rs)</th>\n",
              "    </tr>\n",
              "    <tr>\n",
              "      <th>Customer</th>\n",
              "      <th></th>\n",
              "    </tr>\n",
              "  </thead>\n",
              "  <tbody>\n",
              "    <tr>\n",
              "      <th>C_1</th>\n",
              "      <td>Rich</td>\n",
              "    </tr>\n",
              "    <tr>\n",
              "      <th>C_10</th>\n",
              "      <td>Poor</td>\n",
              "    </tr>\n",
              "    <tr>\n",
              "      <th>C_2</th>\n",
              "      <td>Rich</td>\n",
              "    </tr>\n",
              "    <tr>\n",
              "      <th>C_3</th>\n",
              "      <td>Rich</td>\n",
              "    </tr>\n",
              "    <tr>\n",
              "      <th>C_4</th>\n",
              "      <td>Poor</td>\n",
              "    </tr>\n",
              "    <tr>\n",
              "      <th>C_5</th>\n",
              "      <td>Rich</td>\n",
              "    </tr>\n",
              "    <tr>\n",
              "      <th>C_6</th>\n",
              "      <td>Poor</td>\n",
              "    </tr>\n",
              "    <tr>\n",
              "      <th>C_7</th>\n",
              "      <td>Rich</td>\n",
              "    </tr>\n",
              "    <tr>\n",
              "      <th>C_8</th>\n",
              "      <td>Rich</td>\n",
              "    </tr>\n",
              "    <tr>\n",
              "      <th>C_9</th>\n",
              "      <td>Poor</td>\n",
              "    </tr>\n",
              "  </tbody>\n",
              "</table>\n",
              "</div><br><label><b>dtype:</b> object</label>"
            ]
          },
          "metadata": {},
          "execution_count": 56
        }
      ]
    },
    {
      "cell_type": "markdown",
      "source": [
        "A4\n",
        "\n",
        "\n",
        "\n"
      ],
      "metadata": {
        "id": "3YDyvNUY56KW"
      }
    },
    {
      "cell_type": "code",
      "source": [
        "import statistics\n",
        "df = pd.read_excel(\"/Lab Session Data.xlsx\", sheet_name='IRCTC Stock Price',usecols=['Date','Month','Day','Price','Open','High','Low','Volume','Chg%'])\n",
        "print(\"Contents in csv file:\\n\", df)\n",
        "print(\"Mean\",statistics.mean(df['Price']))\n",
        "print(\"Varience\",statistics.variance(df['Price']))\n",
        "def wednesday(df):\n",
        "  wed=df[df['Day']=='Wed']\n",
        "  wed_mean=statistics.mean(wed['Price'])\n",
        "  pop_mean=statistics.mean(df['Price'])\n",
        "  return wed_mean,pop_mean,abs(wed_mean-pop_mean)\n",
        "print(wednesday(df))\n",
        "def april(df):\n",
        "  april=df[df['Month']=='Apr']\n",
        "  april_mean=statistics.mean(april['Price'])\n",
        "  ap_pop_mean=statistics.mean(df['Price'])\n",
        "  return april_mean,ap_pop_mean,abs(april_mean-ap_pop_mean)\n",
        "print(april(df))"
      ],
      "metadata": {
        "colab": {
          "base_uri": "https://localhost:8080/"
        },
        "id": "Rf3w89xa6E4l",
        "outputId": "32601bf7-f82d-4487-9c45-7440053f8add"
      },
      "execution_count": 73,
      "outputs": [
        {
          "output_type": "stream",
          "name": "stdout",
          "text": [
            "Contents in csv file:\n",
            "              Date Month  Day    Price     Open     High      Low   Volume  \\\n",
            "0    Jun 29, 2021   Jun  Tue  2081.85  2092.00  2126.90  2065.05    1.67M   \n",
            "1    Jun 28, 2021   Jun  Mon  2077.75  2084.00  2112.45  2068.40  707.73K   \n",
            "2    Jun 25, 2021   Jun  Fri  2068.85  2084.35  2088.50  2053.10  475.82K   \n",
            "3    Jun 24, 2021   Jun  Thu  2072.95  2098.00  2098.00  2066.00  541.51K   \n",
            "4    Jun 23, 2021   Jun  Wed  2078.25  2102.00  2111.40  2072.00  809.62K   \n",
            "..            ...   ...  ...      ...      ...      ...      ...      ...   \n",
            "244  Jul 07, 2020   Jul  Tue  1397.40  1410.00  1411.00  1390.05  480.21K   \n",
            "245  Jul 06, 2020   Jul  Mon  1400.75  1405.50  1415.50  1394.00  614.93K   \n",
            "246  Jul 03, 2020   Jul  Fri  1405.10  1415.00  1425.00  1398.00  599.49K   \n",
            "247  Jul 02, 2020   Jul  Thu  1412.35  1440.00  1467.80  1395.30    2.16M   \n",
            "248  Jul 01, 2020   Jul  Wed  1363.05  1363.65  1377.00  1356.00  383.00K   \n",
            "\n",
            "       Chg%  \n",
            "0    0.0020  \n",
            "1    0.0043  \n",
            "2   -0.0020  \n",
            "3   -0.0026  \n",
            "4   -0.0023  \n",
            "..      ...  \n",
            "244 -0.0024  \n",
            "245 -0.0031  \n",
            "246 -0.0051  \n",
            "247  0.0362  \n",
            "248  0.0032  \n",
            "\n",
            "[249 rows x 9 columns]\n",
            "Mean 1560.663453815261\n",
            "Varience 58732.365352539186\n",
            "(1550.706, 1560.663453815261, 9.957453815261033)\n",
            "(1698.9526315789474, 1560.663453815261, 138.28917776368644)\n"
          ]
        }
      ]
    }
  ]
}