{
 "cells": [
  {
   "cell_type": "code",
   "execution_count": null,
   "metadata": {
    "_cell_guid": "b1076dfc-b9ad-4769-8c92-a6c4dae69d19",
    "_uuid": "8f2839f25d086af736a60e9eeb907d3b93b6e0e5",
    "execution": {
     "iopub.execute_input": "2025-04-29T18:11:54.302122Z",
     "iopub.status.busy": "2025-04-29T18:11:54.301233Z",
     "iopub.status.idle": "2025-04-29T18:24:16.513379Z",
     "shell.execute_reply": "2025-04-29T18:24:16.512605Z",
     "shell.execute_reply.started": "2025-04-29T18:11:54.302094Z"
    },
    "trusted": true
   },
   "outputs": [
    {
     "name": "stdout",
     "output_type": "stream",
     "text": [
      "✅ Columns: Index(['input', 'Class'], dtype='object')\n"
     ]
    },
    {
     "name": "stderr",
     "output_type": "stream",
     "text": [
      "Some weights of BartForSequenceClassification were not initialized from the model checkpoint at facebook/bart-base and are newly initialized: ['classification_head.dense.bias', 'classification_head.dense.weight', 'classification_head.out_proj.bias', 'classification_head.out_proj.weight']\n",
      "You should probably TRAIN this model on a down-stream task to be able to use it for predictions and inference.\n",
      "/usr/local/lib/python3.11/dist-packages/torch/nn/parallel/_functions.py:71: UserWarning: Was asked to gather along dimension 0, but all input tensors were scalars; will instead unsqueeze and return a vector.\n",
      "  warnings.warn(\n"
     ]
    },
    {
     "data": {
      "text/html": [
       "\n",
       "    <div>\n",
       "      \n",
       "      <progress value='945' max='945' style='width:300px; height:20px; vertical-align: middle;'></progress>\n",
       "      [945/945 09:55, Epoch 5/5]\n",
       "    </div>\n",
       "    <table border=\"1\" class=\"dataframe\">\n",
       "  <thead>\n",
       " <tr style=\"text-align: left;\">\n",
       "      <th>Step</th>\n",
       "      <th>Training Loss</th>\n",
       "    </tr>\n",
       "  </thead>\n",
       "  <tbody>\n",
       "    <tr>\n",
       "      <td>100</td>\n",
       "      <td>1.087100</td>\n",
       "    </tr>\n",
       "    <tr>\n",
       "      <td>200</td>\n",
       "      <td>1.002900</td>\n",
       "    </tr>\n",
       "    <tr>\n",
       "      <td>300</td>\n",
       "      <td>0.944000</td>\n",
       "    </tr>\n",
       "    <tr>\n",
       "      <td>400</td>\n",
       "      <td>0.847500</td>\n",
       "    </tr>\n",
       "    <tr>\n",
       "      <td>500</td>\n",
       "      <td>0.840400</td>\n",
       "    </tr>\n",
       "    <tr>\n",
       "      <td>600</td>\n",
       "      <td>0.776300</td>\n",
       "    </tr>\n",
       "    <tr>\n",
       "      <td>700</td>\n",
       "      <td>0.694200</td>\n",
       "    </tr>\n",
       "    <tr>\n",
       "      <td>800</td>\n",
       "      <td>0.653400</td>\n",
       "    </tr>\n",
       "    <tr>\n",
       "      <td>900</td>\n",
       "      <td>0.658100</td>\n",
       "    </tr>\n",
       "  </tbody>\n",
       "</table><p>"
      ],
      "text/plain": [
       "<IPython.core.display.HTML object>"
      ]
     },
     "metadata": {},
     "output_type": "display_data"
    },
    {
     "name": "stderr",
     "output_type": "stream",
     "text": [
      "/usr/local/lib/python3.11/dist-packages/transformers/configuration_utils.py:393: UserWarning: Some non-default generation parameters are set in the model config. These should go into either a) `model.generation_config` (as opposed to `model.config`); OR b) a GenerationConfig file (https://huggingface.co/docs/transformers/generation_strategies#save-a-custom-decoding-strategy-with-your-model).This warning will become an exception in the future.\n",
      "Non-default generation parameters: {'early_stopping': True, 'num_beams': 4, 'no_repeat_ngram_size': 3, 'forced_bos_token_id': 0}\n",
      "  warnings.warn(\n",
      "/usr/local/lib/python3.11/dist-packages/torch/nn/parallel/_functions.py:71: UserWarning: Was asked to gather along dimension 0, but all input tensors were scalars; will instead unsqueeze and return a vector.\n",
      "  warnings.warn(\n",
      "/usr/local/lib/python3.11/dist-packages/transformers/configuration_utils.py:393: UserWarning: Some non-default generation parameters are set in the model config. These should go into either a) `model.generation_config` (as opposed to `model.config`); OR b) a GenerationConfig file (https://huggingface.co/docs/transformers/generation_strategies#save-a-custom-decoding-strategy-with-your-model).This warning will become an exception in the future.\n",
      "Non-default generation parameters: {'early_stopping': True, 'num_beams': 4, 'no_repeat_ngram_size': 3, 'forced_bos_token_id': 0}\n",
      "  warnings.warn(\n",
      "Extracting Fine-Tuned Embeddings: 100%|██████████| 1680/1680 [00:30<00:00, 55.61it/s]\n",
      "Extracting Pretrained Embeddings: 100%|██████████| 1680/1680 [01:07<00:00, 24.74it/s]\n"
     ]
    },
    {
     "name": "stdout",
     "output_type": "stream",
     "text": [
      "✅ All embeddings extracted and saved successfully!\n"
     ]
    }
   ],
   "source": [
    "# Step 1: Install packages (skip this on Kaggle, pre-installed)\n",
    "# !pip install transformers openpyxl tqdm scikit-learn --quiet\n",
    "\n",
    "# Step 2: Load dataset\n",
    "import pandas as pd\n",
    "from sklearn.model_selection import train_test_split\n",
    "import torch\n",
    "\n",
    "dataset_path = '/kaggle/input/trainingdataset/training new 1.xlsx'\n",
    "df = pd.read_excel(dataset_path)\n",
    "\n",
    "print(\" Columns:\", df.columns)\n",
    "\n",
    "texts = df['input'].astype(str).tolist()\n",
    "labels = df['Class'].tolist()\n",
    "\n",
    "# Encode labels\n",
    "from sklearn.preprocessing import LabelEncoder\n",
    "label_encoder = LabelEncoder()\n",
    "encoded_labels = label_encoder.fit_transform(labels)\n",
    "num_labels = len(set(encoded_labels))\n",
    "\n",
    "# Train-validation split\n",
    "train_texts, val_texts, train_labels, val_labels = train_test_split(\n",
    "    texts, encoded_labels, test_size=0.1, stratify=encoded_labels, random_state=42\n",
    ")\n",
    "\n",
    "# Step 3: Tokenize and Dataset\n",
    "from transformers import BartTokenizer\n",
    "\n",
    "tokenizer = BartTokenizer.from_pretrained('facebook/bart-base')\n",
    "\n",
    "class BARTClassificationDataset(torch.utils.data.Dataset):\n",
    "    def __init__(self, texts, labels, tokenizer, max_len=512):\n",
    "        self.encodings = tokenizer(texts, truncation=True, padding='max_length', max_length=max_len)\n",
    "        self.labels = labels\n",
    "\n",
    "    def __len__(self):\n",
    "        return len(self.labels)\n",
    "\n",
    "    def __getitem__(self, idx):\n",
    "        return {\n",
    "            'input_ids': torch.tensor(self.encodings['input_ids'][idx]),\n",
    "            'attention_mask': torch.tensor(self.encodings['attention_mask'][idx]),\n",
    "            'labels': torch.tensor(self.labels[idx])\n",
    "        }\n",
    "\n",
    "train_dataset = BARTClassificationDataset(train_texts, train_labels, tokenizer)\n",
    "val_dataset = BARTClassificationDataset(val_texts, val_labels, tokenizer)\n",
    "\n",
    "# Step 4: Fine-Tune BART for Classification\n",
    "from transformers import BartForSequenceClassification, TrainingArguments, Trainer\n",
    "\n",
    "model_finetuned = BartForSequenceClassification.from_pretrained('facebook/bart-base', num_labels=num_labels)\n",
    "\n",
    "training_args = TrainingArguments(\n",
    "    output_dir=\"./bart_classification_output\",\n",
    "    per_device_train_batch_size=4,\n",
    "    per_device_eval_batch_size=4,\n",
    "    num_train_epochs=5,\n",
    "    save_steps=500,\n",
    "    save_total_limit=2,\n",
    "    logging_steps=100,\n",
    "    report_to=\"none\"\n",
    ")\n",
    "\n",
    "trainer = Trainer(\n",
    "    model=model_finetuned,\n",
    "    args=training_args,\n",
    "    train_dataset=train_dataset,\n",
    "    eval_dataset=val_dataset\n",
    ")\n",
    "\n",
    "trainer.train()\n",
    "\n",
    "# Step 5: Extract Fine-Tuned BART Encoder Embeddings\n",
    "from tqdm import tqdm\n",
    "\n",
    "device = torch.device(\"cuda\" if torch.cuda.is_available() else \"cpu\")\n",
    "encoder_model = model_finetuned.model.encoder.to(device)\n",
    "model_finetuned.eval()\n",
    "\n",
    "all_texts = texts\n",
    "finetuned_embeddings_list = []\n",
    "\n",
    "with torch.no_grad():\n",
    "    for text in tqdm(all_texts, desc=\"Extracting Fine-Tuned Embeddings\"):\n",
    "        inputs = tokenizer(text, return_tensors=\"pt\", truncation=True, padding='max_length', max_length=512)\n",
    "        inputs = {k: v.to(device) for k, v in inputs.items()}\n",
    "        output = encoder_model(**inputs)\n",
    "        mean_embedding = output.last_hidden_state.mean(dim=1)\n",
    "        finetuned_embeddings_list.append(mean_embedding.squeeze(0).cpu())\n",
    "\n",
    "# Step 6: Extract Pretrained BART Encoder Embeddings\n",
    "from transformers import BartModel\n",
    "\n",
    "model_pretrained = BartModel.from_pretrained('facebook/bart-base').to(device)\n",
    "model_pretrained.eval()\n",
    "\n",
    "pretrained_embeddings_list = []\n",
    "\n",
    "with torch.no_grad():\n",
    "    for text in tqdm(all_texts, desc=\"Extracting Pretrained Embeddings\"):\n",
    "        inputs = tokenizer(text, return_tensors=\"pt\", truncation=True, padding='max_length', max_length=512)\n",
    "        inputs = {k: v.to(device) for k, v in inputs.items()}\n",
    "        output = model_pretrained(**inputs)\n",
    "        mean_embedding = output.last_hidden_state.mean(dim=1)\n",
    "        pretrained_embeddings_list.append(mean_embedding.squeeze(0).cpu())\n",
    "\n",
    "# Step 7: Save to Excel\n",
    "pretrained_df = pd.DataFrame([emb.numpy() for emb in pretrained_embeddings_list])\n",
    "finetuned_df = pd.DataFrame([emb.numpy() for emb in finetuned_embeddings_list])\n",
    "\n",
    "pretrained_df['Class'] = labels\n",
    "finetuned_df['Class'] = labels\n",
    "\n",
    "pretrained_df.to_excel('pre_trained_bart_embeddings.xlsx', index=False)\n",
    "finetuned_df.to_excel('fine_tuned_bart_embeddings.xlsx', index=False)\n",
    "\n",
    "print(\"All embeddings extracted and saved successfully!\")\n"
   ]
  },
  {
   "cell_type": "code",
   "execution_count": null,
   "metadata": {
    "trusted": true
   },
   "outputs": [],
   "source": [
    "import pandas as pd\n",
    "\n",
    "df = pd.read_excel(\"mathbert_fine_tuned_embeddings.xlsx\")\n",
    "print(df.head())\n"
   ]
  }
 ],
 "metadata": {
  "kaggle": {
   "accelerator": "nvidiaTeslaT4",
   "dataSources": [
    {
     "datasetId": 7282366,
     "sourceId": 11610218,
     "sourceType": "datasetVersion"
    },
    {
     "datasetId": 7282898,
     "sourceId": 11610990,
     "sourceType": "datasetVersion"
    }
   ],
   "dockerImageVersionId": 31011,
   "isGpuEnabled": true,
   "isInternetEnabled": true,
   "language": "python",
   "sourceType": "notebook"
  },
  "kernelspec": {
   "display_name": "Python 3",
   "language": "python",
   "name": "python3"
  },
  "language_info": {
   "codemirror_mode": {
    "name": "ipython",
    "version": 3
   },
   "file_extension": ".py",
   "mimetype": "text/x-python",
   "name": "python",
   "nbconvert_exporter": "python",
   "pygments_lexer": "ipython3",
   "version": "3.11.11"
  }
 },
 "nbformat": 4,
 "nbformat_minor": 4
}
